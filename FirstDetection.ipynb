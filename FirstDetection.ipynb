{
 "cells": [
  {
   "cell_type": "code",
   "execution_count": null,
   "metadata": {},
   "outputs": [],
   "source": [
    "#Libraries used -  numpy, tensorflow, scipy, ImageAI, keras, openCV, pillow, matplotlib, h5py"
   ]
  },
  {
   "cell_type": "code",
   "execution_count": 2,
   "metadata": {},
   "outputs": [
    {
     "name": "stdout",
     "output_type": "stream",
     "text": [
      "truck  :  54.564619064331055\n",
      "truck  :  76.81670188903809\n",
      "motorcycle  :  87.92104125022888\n",
      "motorcycle  :  89.69051241874695\n",
      "car  :  62.477099895477295\n",
      "car  :  68.86354088783264\n",
      "car  :  91.44439101219177\n",
      "car  :  98.40536117553711\n",
      "person  :  52.625572681427\n",
      "person  :  55.75518608093262\n",
      "person  :  66.38826727867126\n",
      "person  :  76.84687972068787\n",
      "person  :  78.40710282325745\n",
      "person  :  79.1176974773407\n",
      "person  :  81.06297850608826\n",
      "person  :  81.58272504806519\n",
      "person  :  88.64890336990356\n",
      "person  :  91.35149717330933\n",
      "person  :  95.24873495101929\n",
      "person  :  96.76799178123474\n"
     ]
    }
   ],
   "source": [
    "from imageai.Detection import ObjectDetection   #import ImageAI\n",
    "import os\n",
    "\n",
    "execution_path = os.getcwd()\n",
    "\n",
    "detector = ObjectDetection()\n",
    "detector.setModelTypeAsYOLOv3()     #set model type to YOLOv3\n",
    "detector.setModelPath( os.path.join(execution_path , \"yolo.h5\"))   #set model path\n",
    "detector.loadModel()\n",
    "detections = detector.detectObjectsFromImage(input_image=os.path.join(execution_path , \"image.jpg\"), output_image_path=os.path.join(execution_path , \"imagenew.jpg\"))\n",
    "\n",
    "for eachObject in detections:\n",
    "    print(eachObject[\"name\"] , \" : \" , eachObject[\"percentage_probability\"] ) #print out name and percentage probability of the model"
   ]
  }
 ],
 "metadata": {
  "kernelspec": {
   "display_name": "Python 3",
   "language": "python",
   "name": "python3"
  },
  "language_info": {
   "codemirror_mode": {
    "name": "ipython",
    "version": 3
   },
   "file_extension": ".py",
   "mimetype": "text/x-python",
   "name": "python",
   "nbconvert_exporter": "python",
   "pygments_lexer": "ipython3",
   "version": "3.6.7"
  }
 },
 "nbformat": 4,
 "nbformat_minor": 2
}
